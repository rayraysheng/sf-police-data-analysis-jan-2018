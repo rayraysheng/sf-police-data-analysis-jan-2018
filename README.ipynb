{
 "cells": [
  {
   "cell_type": "markdown",
   "metadata": {},
   "source": [
    "## Project Title: Analysis of Crimes in City and County of San Francisco\n",
    "\n",
    "### Team Members:\n",
    "* Abdullah Alfai\n",
    "* Alex Leontiev\n",
    "* Beatriz Shetkar\n",
    "* Ray Sheng\n",
    "\n",
    "### Project Description:\n",
    "Look at police incidents data from the San Francisco Police Department and determine what relationships exist between type of crime, neighborhood, time of day, etc.\n",
    "\n",
    "### Research questions to answer:\n",
    "* What types of crimes are more likely to happen in rich neighborhoods vs poor neighborhoods?\n",
    "* What types of crimes are more likely to happen in residential areas vs business areas, schools, tourist attractions, etc.?\n",
    "* Is there a correlation between police incident occurrences and time of day, day of the week, time of the year, etc.?\n",
    "* Is there a correlation between rate of successful resolution and the affluence level of neighborhooods in which the incidents occurred?\n",
    "\n",
    "### Data Sets to be Used:\n",
    "##### Main Data Set: \n",
    "* SF Police Department Incidents (2.16M rows): https://data.sfgov.org/Public-Safety/Police-Department-Incidents/tmnf-yvry\n",
    "\n",
    "##### Possible Supporting Data Sets: \n",
    "* SF Registered Business Locations: https://data.sfgov.org/Economy-and-Community/Registered-Business-Locations-San-Francisco/g8m3-pdis\n",
    "* SF Schools: https://data.sfgov.org/Economy-and-Community/Schools/tpp3-epx2\n",
    "* Assessor Historical Secured Property Tax Rolls: https://data.sfgov.org/Housing-and-Buildings/Assessor-Historical-Secured-Property-Tax-Rolls/wv5m-vpq2\n",
    "* Possibly other additional data sets\n",
    "\n",
    "### Rough Breakdown of Tasks\n",
    "* Finalize various questions above\n",
    "* Obtain data sets and clean data\n",
    "* Analyze and visualize for each related question\n",
    "* Document results\n",
    "* Prepare presentation"
   ]
  },
  {
   "cell_type": "code",
   "execution_count": null,
   "metadata": {
    "collapsed": true
   },
   "outputs": [],
   "source": []
  }
 ],
 "metadata": {
  "kernelspec": {
   "display_name": "Python 3",
   "language": "python",
   "name": "python3"
  },
  "language_info": {
   "codemirror_mode": {
    "name": "ipython",
    "version": 3
   },
   "file_extension": ".py",
   "mimetype": "text/x-python",
   "name": "python",
   "nbconvert_exporter": "python",
   "pygments_lexer": "ipython3",
   "version": "3.6.3"
  }
 },
 "nbformat": 4,
 "nbformat_minor": 2
}
