{
 "cells": [
  {
   "cell_type": "code",
   "execution_count": 1,
   "metadata": {},
   "outputs": [
    {
     "name": "stdout",
     "output_type": "stream",
     "text": [
      "Importing libraries\n",
      "Done importing\n"
     ]
    }
   ],
   "source": [
    "# Import dependencies\n",
    "print('Importing libraries')\n",
    "import pandas as pd\n",
    "import zipfile\n",
    "import json\n",
    "import requests as req\n",
    "from datetime import datetime\n",
    "print('Done importing')"
   ]
  },
  {
   "cell_type": "code",
   "execution_count": 2,
   "metadata": {},
   "outputs": [
    {
     "name": "stdout",
     "output_type": "stream",
     "text": [
      "Loading source file: 2018-01-16 20:11:21.918631\n",
      "File loaded: 2018-01-16 20:11:36.768243\n"
     ]
    }
   ],
   "source": [
    "# Load datafram from csv compressed in the zip file\n",
    "\n",
    "print('Loading source file: %s' % datetime.now())\n",
    "\n",
    "data_zip_path = 'data/Police_Incidents.zip'\n",
    "zf = zipfile.ZipFile(data_zip_path) # having Police_Incidents.csv zipped file.\n",
    "police_incidents_df = pd.read_csv(zf.open('Police_Incidents.csv'))\n",
    "print('File loaded: %s' % datetime.now())\n"
   ]
  },
  {
   "cell_type": "code",
   "execution_count": 6,
   "metadata": {
    "collapsed": true
   },
   "outputs": [],
   "source": [
    "# Function  get_ymd helps us to get year, month, and day   \n",
    "\n",
    "def get_ymd(data):\n",
    "    \n",
    "    months = []\n",
    "    years = []\n",
    "    days = []\n",
    "    \n",
    "    # For each row in the column Date\n",
    "    for r_date in data['Date']:\n",
    "         \n",
    "        full_date = datetime.strptime(r_date, \"%m/%d/%Y\")\n",
    "        months.append(str(full_date.month))\n",
    "        years.append(str(full_date.year))\n",
    "        days.append(str(full_date.day))\n",
    "        \n",
    "    # Create columns from the list\n",
    "    data['Year'] = years\n",
    "    data['Month'] = months\n",
    "    data['Day_m'] = days\n"
   ]
  },
  {
   "cell_type": "code",
   "execution_count": 7,
   "metadata": {},
   "outputs": [
    {
     "name": "stdout",
     "output_type": "stream",
     "text": [
      "Converting dates: 2018-01-16 20:41:59.208905\n",
      "Dates converted: 2018-01-16 20:42:40.207790\n"
     ]
    },
    {
     "data": {
      "text/html": [
       "<div>\n",
       "<style>\n",
       "    .dataframe thead tr:only-child th {\n",
       "        text-align: right;\n",
       "    }\n",
       "\n",
       "    .dataframe thead th {\n",
       "        text-align: left;\n",
       "    }\n",
       "\n",
       "    .dataframe tbody tr th {\n",
       "        vertical-align: top;\n",
       "    }\n",
       "</style>\n",
       "<table border=\"1\" class=\"dataframe\">\n",
       "  <thead>\n",
       "    <tr style=\"text-align: right;\">\n",
       "      <th></th>\n",
       "      <th>IncidntNum</th>\n",
       "      <th>Category</th>\n",
       "      <th>Descript</th>\n",
       "      <th>DayOfWeek</th>\n",
       "      <th>Date</th>\n",
       "      <th>Time</th>\n",
       "      <th>PdDistrict</th>\n",
       "      <th>Resolution</th>\n",
       "      <th>Address</th>\n",
       "      <th>X</th>\n",
       "      <th>Y</th>\n",
       "      <th>Location</th>\n",
       "      <th>PdId</th>\n",
       "      <th>Year</th>\n",
       "      <th>Month</th>\n",
       "      <th>Day_m</th>\n",
       "    </tr>\n",
       "  </thead>\n",
       "  <tbody>\n",
       "    <tr>\n",
       "      <th>0</th>\n",
       "      <td>150060275</td>\n",
       "      <td>NON-CRIMINAL</td>\n",
       "      <td>LOST PROPERTY</td>\n",
       "      <td>Monday</td>\n",
       "      <td>01/19/2015</td>\n",
       "      <td>14:00</td>\n",
       "      <td>MISSION</td>\n",
       "      <td>NONE</td>\n",
       "      <td>18TH ST / VALENCIA ST</td>\n",
       "      <td>-122.421582</td>\n",
       "      <td>37.761701</td>\n",
       "      <td>(37.7617007179518, -122.42158168137)</td>\n",
       "      <td>15006027571000</td>\n",
       "      <td>2015</td>\n",
       "      <td>1</td>\n",
       "      <td>19</td>\n",
       "    </tr>\n",
       "    <tr>\n",
       "      <th>1</th>\n",
       "      <td>150098210</td>\n",
       "      <td>ROBBERY</td>\n",
       "      <td>ROBBERY, BODILY FORCE</td>\n",
       "      <td>Sunday</td>\n",
       "      <td>02/01/2015</td>\n",
       "      <td>15:45</td>\n",
       "      <td>TENDERLOIN</td>\n",
       "      <td>NONE</td>\n",
       "      <td>300 Block of LEAVENWORTH ST</td>\n",
       "      <td>-122.414406</td>\n",
       "      <td>37.784191</td>\n",
       "      <td>(37.7841907151119, -122.414406029855)</td>\n",
       "      <td>15009821003074</td>\n",
       "      <td>2015</td>\n",
       "      <td>2</td>\n",
       "      <td>1</td>\n",
       "    </tr>\n",
       "    <tr>\n",
       "      <th>2</th>\n",
       "      <td>150098210</td>\n",
       "      <td>ASSAULT</td>\n",
       "      <td>AGGRAVATED ASSAULT WITH BODILY FORCE</td>\n",
       "      <td>Sunday</td>\n",
       "      <td>02/01/2015</td>\n",
       "      <td>15:45</td>\n",
       "      <td>TENDERLOIN</td>\n",
       "      <td>NONE</td>\n",
       "      <td>300 Block of LEAVENWORTH ST</td>\n",
       "      <td>-122.414406</td>\n",
       "      <td>37.784191</td>\n",
       "      <td>(37.7841907151119, -122.414406029855)</td>\n",
       "      <td>15009821004014</td>\n",
       "      <td>2015</td>\n",
       "      <td>2</td>\n",
       "      <td>1</td>\n",
       "    </tr>\n",
       "    <tr>\n",
       "      <th>3</th>\n",
       "      <td>150098210</td>\n",
       "      <td>SECONDARY CODES</td>\n",
       "      <td>DOMESTIC VIOLENCE</td>\n",
       "      <td>Sunday</td>\n",
       "      <td>02/01/2015</td>\n",
       "      <td>15:45</td>\n",
       "      <td>TENDERLOIN</td>\n",
       "      <td>NONE</td>\n",
       "      <td>300 Block of LEAVENWORTH ST</td>\n",
       "      <td>-122.414406</td>\n",
       "      <td>37.784191</td>\n",
       "      <td>(37.7841907151119, -122.414406029855)</td>\n",
       "      <td>15009821015200</td>\n",
       "      <td>2015</td>\n",
       "      <td>2</td>\n",
       "      <td>1</td>\n",
       "    </tr>\n",
       "    <tr>\n",
       "      <th>4</th>\n",
       "      <td>150098226</td>\n",
       "      <td>VANDALISM</td>\n",
       "      <td>MALICIOUS MISCHIEF, VANDALISM OF VEHICLES</td>\n",
       "      <td>Tuesday</td>\n",
       "      <td>01/27/2015</td>\n",
       "      <td>19:00</td>\n",
       "      <td>NORTHERN</td>\n",
       "      <td>NONE</td>\n",
       "      <td>LOMBARD ST / LAGUNA ST</td>\n",
       "      <td>-122.431119</td>\n",
       "      <td>37.800469</td>\n",
       "      <td>(37.8004687042875, -122.431118543788)</td>\n",
       "      <td>15009822628160</td>\n",
       "      <td>2015</td>\n",
       "      <td>1</td>\n",
       "      <td>27</td>\n",
       "    </tr>\n",
       "  </tbody>\n",
       "</table>\n",
       "</div>"
      ],
      "text/plain": [
       "   IncidntNum         Category                                   Descript  \\\n",
       "0   150060275     NON-CRIMINAL                              LOST PROPERTY   \n",
       "1   150098210          ROBBERY                      ROBBERY, BODILY FORCE   \n",
       "2   150098210          ASSAULT       AGGRAVATED ASSAULT WITH BODILY FORCE   \n",
       "3   150098210  SECONDARY CODES                          DOMESTIC VIOLENCE   \n",
       "4   150098226        VANDALISM  MALICIOUS MISCHIEF, VANDALISM OF VEHICLES   \n",
       "\n",
       "  DayOfWeek        Date   Time  PdDistrict Resolution  \\\n",
       "0    Monday  01/19/2015  14:00     MISSION       NONE   \n",
       "1    Sunday  02/01/2015  15:45  TENDERLOIN       NONE   \n",
       "2    Sunday  02/01/2015  15:45  TENDERLOIN       NONE   \n",
       "3    Sunday  02/01/2015  15:45  TENDERLOIN       NONE   \n",
       "4   Tuesday  01/27/2015  19:00    NORTHERN       NONE   \n",
       "\n",
       "                       Address           X          Y  \\\n",
       "0        18TH ST / VALENCIA ST -122.421582  37.761701   \n",
       "1  300 Block of LEAVENWORTH ST -122.414406  37.784191   \n",
       "2  300 Block of LEAVENWORTH ST -122.414406  37.784191   \n",
       "3  300 Block of LEAVENWORTH ST -122.414406  37.784191   \n",
       "4       LOMBARD ST / LAGUNA ST -122.431119  37.800469   \n",
       "\n",
       "                                Location            PdId  Year Month Day_m  \n",
       "0   (37.7617007179518, -122.42158168137)  15006027571000  2015     1    19  \n",
       "1  (37.7841907151119, -122.414406029855)  15009821003074  2015     2     1  \n",
       "2  (37.7841907151119, -122.414406029855)  15009821004014  2015     2     1  \n",
       "3  (37.7841907151119, -122.414406029855)  15009821015200  2015     2     1  \n",
       "4  (37.8004687042875, -122.431118543788)  15009822628160  2015     1    27  "
      ]
     },
     "execution_count": 7,
     "metadata": {},
     "output_type": "execute_result"
    }
   ],
   "source": [
    "# Call function get_ymd for splitting column DATE in Year, Month and Day_m columns.\n",
    "\n",
    "print('Converting dates: %s' % datetime.now())\n",
    "get_ymd(police_incidents_df)   \n",
    "print('Dates converted: %s' % datetime.now())"
   ]
  },
  {
   "cell_type": "code",
   "execution_count": 8,
   "metadata": {},
   "outputs": [
    {
     "name": "stdout",
     "output_type": "stream",
     "text": [
      "Dropping columns: 2018-01-16 20:49:40.790245\n",
      "Columns dropped: 2018-01-16 20:49:42.264590\n"
     ]
    },
    {
     "data": {
      "text/plain": [
       "(2165249, 12)"
      ]
     },
     "execution_count": 8,
     "metadata": {},
     "output_type": "execute_result"
    }
   ],
   "source": [
    "# Drop columns Descript, Date, Address and PdId which we will not used for any purpose.\n",
    "\n",
    "print('Dropping columns: %s' % datetime.now())\n",
    "police_incidents_df.drop(['Descript', 'Date', 'Address', 'PdId'], axis=1, inplace= True)\n",
    "print('Columns dropped: %s' % datetime.now())\n"
   ]
  },
  {
   "cell_type": "code",
   "execution_count": 9,
   "metadata": {},
   "outputs": [
    {
     "name": "stdout",
     "output_type": "stream",
     "text": [
      "Truncating by year: 2018-01-16 20:49:51.847386\n",
      "Data truncated: 2018-01-16 20:49:54.508423\n"
     ]
    },
    {
     "data": {
      "text/html": [
       "<div>\n",
       "<style>\n",
       "    .dataframe thead tr:only-child th {\n",
       "        text-align: right;\n",
       "    }\n",
       "\n",
       "    .dataframe thead th {\n",
       "        text-align: left;\n",
       "    }\n",
       "\n",
       "    .dataframe tbody tr th {\n",
       "        vertical-align: top;\n",
       "    }\n",
       "</style>\n",
       "<table border=\"1\" class=\"dataframe\">\n",
       "  <thead>\n",
       "    <tr style=\"text-align: right;\">\n",
       "      <th></th>\n",
       "      <th>IncidntNum</th>\n",
       "      <th>Category</th>\n",
       "      <th>DayOfWeek</th>\n",
       "      <th>Time</th>\n",
       "      <th>PdDistrict</th>\n",
       "      <th>Resolution</th>\n",
       "      <th>X</th>\n",
       "      <th>Y</th>\n",
       "      <th>Location</th>\n",
       "      <th>Year</th>\n",
       "      <th>Month</th>\n",
       "      <th>Day_m</th>\n",
       "    </tr>\n",
       "  </thead>\n",
       "  <tbody>\n",
       "    <tr>\n",
       "      <th>247047</th>\n",
       "      <td>120511816</td>\n",
       "      <td>OTHER OFFENSES</td>\n",
       "      <td>Friday</td>\n",
       "      <td>00:01</td>\n",
       "      <td>NORTHERN</td>\n",
       "      <td>NONE</td>\n",
       "      <td>-122.420078</td>\n",
       "      <td>37.783521</td>\n",
       "      <td>(37.7835214867196, -122.420078493883)</td>\n",
       "      <td>2010</td>\n",
       "      <td>1</td>\n",
       "      <td>1</td>\n",
       "    </tr>\n",
       "    <tr>\n",
       "      <th>247906</th>\n",
       "      <td>110651381</td>\n",
       "      <td>OTHER OFFENSES</td>\n",
       "      <td>Friday</td>\n",
       "      <td>00:01</td>\n",
       "      <td>CENTRAL</td>\n",
       "      <td>NONE</td>\n",
       "      <td>-122.409888</td>\n",
       "      <td>37.806026</td>\n",
       "      <td>(37.8060255339956, -122.409888227377)</td>\n",
       "      <td>2010</td>\n",
       "      <td>1</td>\n",
       "      <td>1</td>\n",
       "    </tr>\n",
       "    <tr>\n",
       "      <th>263368</th>\n",
       "      <td>141053259</td>\n",
       "      <td>DISORDERLY CONDUCT</td>\n",
       "      <td>Friday</td>\n",
       "      <td>00:01</td>\n",
       "      <td>CENTRAL</td>\n",
       "      <td>NONE</td>\n",
       "      <td>-122.414011</td>\n",
       "      <td>37.786677</td>\n",
       "      <td>(37.7866770011071, -122.414010814727)</td>\n",
       "      <td>2010</td>\n",
       "      <td>1</td>\n",
       "      <td>1</td>\n",
       "    </tr>\n",
       "    <tr>\n",
       "      <th>296994</th>\n",
       "      <td>106002257</td>\n",
       "      <td>LARCENY/THEFT</td>\n",
       "      <td>Friday</td>\n",
       "      <td>00:01</td>\n",
       "      <td>NORTHERN</td>\n",
       "      <td>NONE</td>\n",
       "      <td>-122.433799</td>\n",
       "      <td>37.805042</td>\n",
       "      <td>(37.8050423291627, -122.433799454581)</td>\n",
       "      <td>2010</td>\n",
       "      <td>1</td>\n",
       "      <td>1</td>\n",
       "    </tr>\n",
       "    <tr>\n",
       "      <th>311263</th>\n",
       "      <td>101200525</td>\n",
       "      <td>BURGLARY</td>\n",
       "      <td>Friday</td>\n",
       "      <td>00:01</td>\n",
       "      <td>PARK</td>\n",
       "      <td>NONE</td>\n",
       "      <td>-122.447617</td>\n",
       "      <td>37.782584</td>\n",
       "      <td>(37.7825841925678, -122.447617194265)</td>\n",
       "      <td>2010</td>\n",
       "      <td>1</td>\n",
       "      <td>1</td>\n",
       "    </tr>\n",
       "  </tbody>\n",
       "</table>\n",
       "</div>"
      ],
      "text/plain": [
       "        IncidntNum            Category DayOfWeek   Time PdDistrict Resolution  \\\n",
       "247047   120511816      OTHER OFFENSES    Friday  00:01   NORTHERN       NONE   \n",
       "247906   110651381      OTHER OFFENSES    Friday  00:01    CENTRAL       NONE   \n",
       "263368   141053259  DISORDERLY CONDUCT    Friday  00:01    CENTRAL       NONE   \n",
       "296994   106002257       LARCENY/THEFT    Friday  00:01   NORTHERN       NONE   \n",
       "311263   101200525            BURGLARY    Friday  00:01       PARK       NONE   \n",
       "\n",
       "                 X          Y                               Location  Year  \\\n",
       "247047 -122.420078  37.783521  (37.7835214867196, -122.420078493883)  2010   \n",
       "247906 -122.409888  37.806026  (37.8060255339956, -122.409888227377)  2010   \n",
       "263368 -122.414011  37.786677  (37.7866770011071, -122.414010814727)  2010   \n",
       "296994 -122.433799  37.805042  (37.8050423291627, -122.433799454581)  2010   \n",
       "311263 -122.447617  37.782584  (37.7825841925678, -122.447617194265)  2010   \n",
       "\n",
       "       Month Day_m  \n",
       "247047     1     1  \n",
       "247906     1     1  \n",
       "263368     1     1  \n",
       "296994     1     1  \n",
       "311263     1     1  "
      ]
     },
     "execution_count": 9,
     "metadata": {},
     "output_type": "execute_result"
    }
   ],
   "source": [
    "# Grab DataFrame rows where column years has certain values\n",
    "\n",
    "print('Truncating by year: %s' % datetime.now())\n",
    "\n",
    "years = ['2017', '2016', '2015', '2014', '2013', '2012', '2011', '2010']\n",
    "police_incidents_df = police_incidents_df[police_incidents_df.Year.isin(years)]\n",
    "\n",
    "police_incidents_df_sorted = police_incidents_df.sort_values(by=['Year', 'Month', 'Day_m', 'Time'])\n",
    "\n",
    "print('Data truncated: %s' % datetime.now())\n",
    "\n"
   ]
  },
  {
   "cell_type": "code",
   "execution_count": 10,
   "metadata": {
    "collapsed": true
   },
   "outputs": [],
   "source": [
    "# Rename the columns for future convenience\n",
    "\n",
    "police_incidents_df_sorted.rename(columns={\n",
    "    'IncidntNum': 'id',\n",
    "    'Category': 'category',\n",
    "    'DayOfWeek': 'day_w',\n",
    "    'Time': 'time',\n",
    "    'Resolution': 'resolution',\n",
    "    'X': 'lng',\n",
    "    'Y': 'lat',\n",
    "    'Year': 'year',\n",
    "    'Month': 'month',\n",
    "    'Day_m': 'day_m',\n",
    "    'PdDistrict': 'district',\n",
    "    'Location': 'location'\n",
    "}, inplace=True)"
   ]
  },
  {
   "cell_type": "code",
   "execution_count": 11,
   "metadata": {
    "collapsed": true
   },
   "outputs": [],
   "source": [
    "# Function map_crime helps get meta categories\n",
    "\n",
    "def map_crime(cat):\n",
    "    \n",
    "    # Use this dictionary to add meta categories\n",
    "    incident_map = {'BAD CHECKS': 'WC',\n",
    "             'BRIBERY': 'WC',\n",
    "             'EMBEZZLEMENT': 'WC',\n",
    "             'EXTORTION' : 'WC',\n",
    "             'FORGERY/COUNTERFEITING' : 'WC',\n",
    "             'FRAUD' : 'WC',\n",
    "             'SUSPICIOUS OCC' : 'WC',\n",
    "             'ARSON' : 'BC',\n",
    "             'ASSAULT' : 'BC',\n",
    "             'BURGLARY' : 'BC',\n",
    "             'DISORDERLY CONDUCT' : 'BC',\n",
    "             'DRIVING UNDER THE INFLUENCE' : 'BC',\n",
    "             'GAMBLING' : 'BC',\n",
    "             'KIDNAPPING' : 'BC',\n",
    "             'LARCENY/THEFT' : 'BC',\n",
    "             'LIQUOR LAWS' : 'BC',\n",
    "             'RECOVERED VEHICLE' : 'BC',\n",
    "             'ROBBERY' : 'BC',\n",
    "             'SEX OFFENSES, FORCIBLE' : 'BC',\n",
    "             'STOLEN PROPERTY' : 'BC',\n",
    "             'TRESPASS' : 'BC',\n",
    "             'VANDALISM' : 'BC',\n",
    "             'VEHICLE THEFT' : 'BC',\n",
    "             'DRUG/NARCOTIC' : 'OI',\n",
    "             'DRUNKENNESS' : 'OI',\n",
    "             'FAMILY OFFENSES' : 'OI',\n",
    "             'LOITERING' : 'OI',\n",
    "             'MISSING PERSON' : 'OI',\n",
    "             'NON-CRIMINAL' : 'OI',\n",
    "             'OTHER OFFENSES' : 'OI',\n",
    "             'PORNOGRAPHY/OBSCENE MAT' : 'OI',\n",
    "             'PROSTITUTION' : 'OI',\n",
    "             'RUNAWAY' : 'OI',\n",
    "             'SECONDARY CODES' : 'OI',\n",
    "             'SEX OFFENSES, NON FORCIBLE' : 'OI',\n",
    "             'SUICIDE' : 'OI',\n",
    "             'TREA' : 'OI',\n",
    "             'WARRANTS' : 'OI',\n",
    "             'WEAPON LAWS' : 'OI'}\n",
    "\n",
    "    return incident_map[cat]"
   ]
  },
  {
   "cell_type": "code",
   "execution_count": 12,
   "metadata": {},
   "outputs": [
    {
     "name": "stdout",
     "output_type": "stream",
     "text": [
      "Adding meta categories: 2018-01-16 21:02:59.455191\n",
      "Meta categories added: 2018-01-16 21:03:02.402301\n"
     ]
    }
   ],
   "source": [
    "# Add meta categories\n",
    "\n",
    "incident_list = []\n",
    "\n",
    "print('Adding meta categories: %s' % datetime.now())\n",
    "for i in police_incidents_df_sorted['category']:\n",
    "    incident_list.append(map_crime(i))\n",
    "\n",
    "police_incidents_df_sorted['meta_cat'] = incident_list\n",
    "print('Meta categories added: %s' % datetime.now())"
   ]
  },
  {
   "cell_type": "code",
   "execution_count": 13,
   "metadata": {
    "collapsed": true
   },
   "outputs": [],
   "source": [
    "# Rearrange columns \n",
    "\n",
    "police_incts_df = police_incidents_df_sorted[['id', 'year', 'month', 'day_m', 'day_w', 'time', \n",
    "                                              'category', 'meta_cat', 'resolution', 'location', 'lat', 'lng']]\n"
   ]
  },
  {
   "cell_type": "code",
   "execution_count": 16,
   "metadata": {},
   "outputs": [
    {
     "name": "stdout",
     "output_type": "stream",
     "text": [
      "Preparing coordinate-zipcode table: 2018-01-16 21:08:07.443109\n",
      "Setup ready: 2018-01-16 21:08:07.514789\n"
     ]
    },
    {
     "data": {
      "text/plain": [
       "(52855, 3)"
      ]
     },
     "execution_count": 16,
     "metadata": {},
     "output_type": "execute_result"
    }
   ],
   "source": [
    "# Trim down the dataframe to only what we need\n",
    "\n",
    "print('Preparing coordinate-zipcode table: %s' % datetime.now())\n",
    "\n",
    "incdt_loc_df= police_incts_df.drop_duplicates(subset= ['location'], keep=\"first\")\n",
    "coords_df = incdt_loc_df.filter(['location', 'lat', 'lng'], axis=1)\n",
    "coords_df.reset_index(drop=True, inplace=True)\n",
    "print('Setup ready: %s' % datetime.now())\n",
    "\n"
   ]
  },
  {
   "cell_type": "code",
   "execution_count": 17,
   "metadata": {
    "collapsed": true
   },
   "outputs": [],
   "source": [
    "# Use this function to retrieve content of a file. Mainly used for getting api keys from a local file.\n",
    "# It's assumed our file contains a single line, with our API key\n",
    "\n",
    "def get_file_contents(filename):\n",
    "\n",
    "    try:\n",
    "        with open(filename, 'r') as f:\n",
    "            \n",
    "            return f.read().strip()\n",
    "    except FileNotFoundError:\n",
    "        print(\"'%s' file not found\" % filename)\n"
   ]
  },
  {
   "cell_type": "code",
   "execution_count": 18,
   "metadata": {
    "collapsed": true
   },
   "outputs": [],
   "source": [
    "# Use this function to get the zipcode from a lat/lng pair\n",
    "\n",
    "def get_zip_code(lat, lng):\n",
    "    base_url = 'http://ws.geonames.net/findNearbyPostalCodesJSON?'\n",
    "    full_url = base_url + 'lat=%s&lng=%s&username=%s' % (lat, lng, geonames_username)\n",
    "    \n",
    "    zipcode = req.get(full_url).json()['postalCodes'][0]['postalCode']\n",
    "    \n",
    "    return str(zipcode)"
   ]
  },
  {
   "cell_type": "code",
   "execution_count": null,
   "metadata": {
    "collapsed": true
   },
   "outputs": [],
   "source": [
    "\n",
    "geonames_username = get_file_contents('.geonames_username')\n",
    "\n",
    "# Retrieve zip codes using API calls function\n",
    "zip_list = []\n",
    "\n",
    "print('Retrieving zipcodes')\n",
    "for i in range(0, len(coords_df)):\n",
    "    print('%s: %s' % (i, datetime.now()))\n",
    "    zipcode = get_zip_code(coords_df['lat'][i], coords_df['lng'][i])\n",
    "    zip_list.append(zipcode)\n",
    "    \n",
    "# Add zip codes to dataframe\n",
    "coords_df['zipcode'] = zip_list\n"
   ]
  },
  {
   "cell_type": "code",
   "execution_count": null,
   "metadata": {
    "collapsed": true
   },
   "outputs": [],
   "source": [
    "# Export coordinates zipcode and compress it using zipfile library\n",
    "\n",
    "print('Exporting: %s' % datetime.now())\n",
    "coords_df.to_csv('data/coord-zipcode-table.csv', index=False)\n",
    "\n",
    "coords_zip = zipfile.ZipFile('data/coord-zipcode-table.zip', 'w')\n",
    "coords_zip.write('data/coord-zipcode-table.csv', compress_type=zipfile.ZIP_DEFLATED)\n",
    " \n",
    "coords_zip.close()\n",
    "print('All done: %s' % datetime.now())\n"
   ]
  },
  {
   "cell_type": "code",
   "execution_count": 33,
   "metadata": {},
   "outputs": [
    {
     "name": "stdout",
     "output_type": "stream",
     "text": [
      "Add zipcode column: 2018-01-16 21:48:56.643940\n",
      "Done: 2018-01-16 21:48:57.997996\n"
     ]
    }
   ],
   "source": [
    "#  Rename column 'name'of schools dataframe and merge both dataframes (tables) \n",
    "\n",
    "print('Add zipcode column: %s' % datetime.now())\n",
    "data_merged_df = pd.merge(police_incts_df, coord_df, on=\"location\")\n",
    "\n",
    "# Delete duplicate columns and rename them\n",
    "data_merged_df.drop(['lng_x', 'lat_y'], axis=1, inplace= True)\n",
    "data_merged_df.rename(columns={'lat_x': 'lat', 'lng_y' : 'lng'}, inplace=True)\n",
    "final_data_df = data_merged_df.sort_values(by=['year', 'month', 'day_m', 'time'])\n",
    "final_data_df.reset_index(drop=True, inplace=True)\n",
    "\n",
    "print('Done: %s' % datetime.now())"
   ]
  },
  {
   "cell_type": "code",
   "execution_count": 42,
   "metadata": {},
   "outputs": [
    {
     "name": "stdout",
     "output_type": "stream",
     "text": [
      "Exporting: 2018-01-16 22:07:59.948146\n",
      "All done: 2018-01-16 22:08:23.522328\n"
     ]
    }
   ],
   "source": [
    "# Export final main data file\n",
    "\n",
    "print('Exporting: %s' % datetime.now()) \n",
    "\n",
    "final_data_df.to_csv('main-data.csv', index=False)\n",
    "\n",
    "main_data_zip = zipfile.ZipFile('data/main-data.zip', 'w') \n",
    "main_data_zip.write('main-data.csv',compress_type=zipfile.ZIP_DEFLATED)\n",
    "\n",
    "main_data_zip.close()\n",
    "\n",
    "print('All done: %s' % datetime.now())\n",
    "\n",
    "# final_data_df.to_csv('data/main-data.csv')\n"
   ]
  }
 ],
 "metadata": {
  "kernelspec": {
   "display_name": "Python 3",
   "language": "python",
   "name": "python3"
  },
  "language_info": {
   "codemirror_mode": {
    "name": "ipython",
    "version": 3
   },
   "file_extension": ".py",
   "mimetype": "text/x-python",
   "name": "python",
   "nbconvert_exporter": "python",
   "pygments_lexer": "ipython3",
   "version": "3.6.3"
  }
 },
 "nbformat": 4,
 "nbformat_minor": 2
}
