{
 "cells": [
  {
   "cell_type": "code",
   "execution_count": 1,
   "metadata": {
    "collapsed": true
   },
   "outputs": [],
   "source": [
    "# Dependencies\n",
    "import numpy as np\n",
    "import pandas as pd\n",
    "import matplotlib.pyplot as plt \n",
    "import requests\n",
    "from census import Census\n",
    "from us import states\n",
    "from datetime import datetime"
   ]
  },
  {
   "cell_type": "code",
   "execution_count": 2,
   "metadata": {
    "collapsed": true
   },
   "outputs": [],
   "source": [
    "# Use this function to retrieve content of a file\n",
    "# # Mainly used for getting api keys from a local file\n",
    "def get_file_contents(filename):\n",
    "     #Given a filename,\n",
    "       # return the contents of that file\n",
    "\n",
    "    try:\n",
    "        with open(filename, 'r') as f:\n",
    "            # It's assumed our file contains a single line,\n",
    "            # with our API key\n",
    "            return f.read().strip()\n",
    "    except FileNotFoundError:\n",
    "        print(\"'%s' file not found\" % filename)"
   ]
  },
  {
   "cell_type": "code",
   "execution_count": 3,
   "metadata": {
    "collapsed": true
   },
   "outputs": [],
   "source": [
    "census_api_key = get_file_contents('.census_api_key')"
   ]
  },
  {
   "cell_type": "code",
   "execution_count": 4,
   "metadata": {
    "collapsed": true
   },
   "outputs": [],
   "source": [
    "# Census API Key\n",
    "c = Census(census_api_key)"
   ]
  },
  {
   "cell_type": "code",
   "execution_count": 5,
   "metadata": {},
   "outputs": [
    {
     "name": "stdout",
     "output_type": "stream",
     "text": [
      "--------2011--------\n",
      "Retrieving Data: 2018-01-17 18:48:07.410747\n",
      "Making DataFrame: 2018-01-17 18:48:11.971226\n",
      "Exporting: 2018-01-17 18:48:12.059433\n",
      "--------2012--------\n",
      "Retrieving Data: 2018-01-17 18:48:12.061439\n",
      "Making DataFrame: 2018-01-17 18:48:28.978471\n",
      "Exporting: 2018-01-17 18:48:29.053667\n",
      "--------2013--------\n",
      "Retrieving Data: 2018-01-17 18:48:29.054667\n",
      "Making DataFrame: 2018-01-17 18:48:33.824359\n",
      "Exporting: 2018-01-17 18:48:33.901558\n",
      "--------2014--------\n",
      "Retrieving Data: 2018-01-17 18:48:33.908542\n",
      "Making DataFrame: 2018-01-17 18:48:49.088338\n",
      "Exporting: 2018-01-17 18:48:49.164540\n",
      "--------2015--------\n",
      "Retrieving Data: 2018-01-17 18:48:49.165550\n",
      "Making DataFrame: 2018-01-17 18:49:07.473203\n",
      "Exporting: 2018-01-17 18:49:07.549443\n",
      "--------2016--------\n",
      "Retrieving Data: 2018-01-17 18:49:07.552414\n",
      "Making DataFrame: 2018-01-17 18:49:22.093086\n",
      "Exporting: 2018-01-17 18:49:22.170326\n"
     ]
    }
   ],
   "source": [
    "# Retrieve census data for 2010 to 2017\n",
    "years = list(range(2011, 2017))\n",
    "\n",
    "for each in years:\n",
    "    print('--------%s--------' % each)\n",
    "    \n",
    "    c = Census(census_api_key, year=each)\n",
    "    \n",
    "    # Get data using API\n",
    "    print('Retrieving Data: %s' % datetime.now())\n",
    "    census_data = c.acs5.get(('B01003_001E', 'B19301_001E', 'B19013_001E', 'B17001_002E'), \n",
    "                         {'for': 'zip code tabulation area:*'})\n",
    "\n",
    "    print('Making DataFrame: %s' % datetime.now())    \n",
    "    # Create and clean dataframe\n",
    "    census_df = pd.DataFrame(census_data)\n",
    "    census_df = census_df.rename(columns={'zip code tabulation area': 'zipcode',\n",
    "                                          'B19301_001E': 'per_capita_income',\n",
    "                                          'B19013_001E': 'household_income',\n",
    "                                          'B01003_001E': 'population', \n",
    "                                          'B17001_002E': 'poverty_count',})\n",
    "    \n",
    "    # Keep only the rows with SF zipcodes\n",
    "    sf_zipcodes = [str(x) for x in range(94102, 94189)]\n",
    "\n",
    "    census_df = census_df[census_df.zipcode.isin(sf_zipcodes)]\n",
    "    census_df.reset_index(drop=True, inplace=True)\n",
    "    \n",
    "    # Add in Poverty Rate (Poverty Count / Population)\n",
    "    census_df['poverty_rate'] = 100 * census_df['poverty_count'].astype(int) / census_df['population'].astype(int)\n",
    "    \n",
    "    # Reformat zipcode to string\n",
    "    census_df['zipcode'] = census_df.zipcode.apply(str)\n",
    "    \n",
    "    print('Exporting: %s' % datetime.now())\n",
    "    # Export file for use\n",
    "    census_df.to_csv('data/census-%s.csv' % each, index=False)"
   ]
  },
  {
   "cell_type": "code",
   "execution_count": 6,
   "metadata": {},
   "outputs": [
    {
     "ename": "NameError",
     "evalue": "name 'census_dfq' is not defined",
     "output_type": "error",
     "traceback": [
      "\u001b[1;31m---------------------------------------------------------------------------\u001b[0m",
      "\u001b[1;31mNameError\u001b[0m                                 Traceback (most recent call last)",
      "\u001b[1;32m<ipython-input-6-ca956c0419f5>\u001b[0m in \u001b[0;36m<module>\u001b[1;34m()\u001b[0m\n\u001b[1;32m----> 1\u001b[1;33m \u001b[0mcensus_dfq\u001b[0m\u001b[1;33m\u001b[0m\u001b[0m\n\u001b[0m",
      "\u001b[1;31mNameError\u001b[0m: name 'census_dfq' is not defined"
     ]
    }
   ],
   "source": [
    "census_df"
   ]
  },
  {
   "cell_type": "code",
   "execution_count": null,
   "metadata": {
    "collapsed": true
   },
   "outputs": [],
   "source": []
  }
 ],
 "metadata": {
  "kernelspec": {
   "display_name": "Python 3",
   "language": "python",
   "name": "python3"
  },
  "language_info": {
   "codemirror_mode": {
    "name": "ipython",
    "version": 3
   },
   "file_extension": ".py",
   "mimetype": "text/x-python",
   "name": "python",
   "nbconvert_exporter": "python",
   "pygments_lexer": "ipython3",
   "version": "3.6.3"
  }
 },
 "nbformat": 4,
 "nbformat_minor": 2
}
